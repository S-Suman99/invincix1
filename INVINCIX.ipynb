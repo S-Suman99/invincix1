{
 "cells": [
  {
   "cell_type": "code",
   "execution_count": null,
   "metadata": {},
   "outputs": [],
   "source": [
    "def Alter(s):\n",
    "\n",
    "\n",
    "    for i in range ( len( s) - 2) :\n",
    "        if (s[i] != s[i + 2]) :\n",
    "            return False\n",
    "    if (s[0] == s[1]):\n",
    "        return False\n",
    "\n",
    "    return True\n",
    "\n",
    "if __name__ == \"__main__\":\n",
    "    str1 = str (input(\"Enter a string :\"))\n",
    "\n",
    "    if (Alter(str1)):\n",
    "        print ( \"Yeah\")\n",
    "    else:\n",
    "        print (\"oh!\")"
   ]
  }
 ],
 "metadata": {
  "kernelspec": {
   "display_name": "Python 3",
   "language": "python",
   "name": "python3"
  },
  "language_info": {
   "codemirror_mode": {
    "name": "ipython",
    "version": 3
   },
   "file_extension": ".py",
   "mimetype": "text/x-python",
   "name": "python",
   "nbconvert_exporter": "python",
   "pygments_lexer": "ipython3",
   "version": "3.8.5"
  }
 },
 "nbformat": 4,
 "nbformat_minor": 4
}
